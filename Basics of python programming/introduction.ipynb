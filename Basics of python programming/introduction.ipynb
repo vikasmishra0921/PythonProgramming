{
 "cells": [
  {
   "cell_type": "markdown",
   "metadata": {},
   "source": [
    "# **Introduction to python programming**"
   ]
  },
  {
   "cell_type": "code",
   "execution_count": 1,
   "metadata": {},
   "outputs": [],
   "source": [
    "# Variable assignment \n",
    "number = 100\n",
    "number1 = 100.20\n",
    "str = \"Hello world\"\n",
    "\n",
    "num = \"1234\"\n",
    "\n",
    "num1, num2,num3 = 1,2,3,\n"
   ]
  },
  {
   "cell_type": "code",
   "execution_count": 2,
   "metadata": {},
   "outputs": [
    {
     "name": "stdout",
     "output_type": "stream",
     "text": [
      "100.2\n"
     ]
    }
   ],
   "source": [
    "print(number1)"
   ]
  },
  {
   "cell_type": "code",
   "execution_count": 9,
   "metadata": {},
   "outputs": [],
   "source": [
    "NUMBER = 2000\n"
   ]
  },
  {
   "cell_type": "code",
   "execution_count": 12,
   "metadata": {},
   "outputs": [
    {
     "data": {
      "text/plain": [
       "2000"
      ]
     },
     "execution_count": 12,
     "metadata": {},
     "output_type": "execute_result"
    }
   ],
   "source": [
    "NUMBER"
   ]
  },
  {
   "cell_type": "code",
   "execution_count": 7,
   "metadata": {},
   "outputs": [
    {
     "name": "stdout",
     "output_type": "stream",
     "text": [
      "<class 'float'>\n",
      "<class 'int'>\n",
      "<class 'str'>\n"
     ]
    }
   ],
   "source": [
    "# Checking dataType\n",
    "\n",
    "print(type(number1))\n",
    "print(type(number))\n",
    "print(type(str))\n",
    "\n"
   ]
  },
  {
   "cell_type": "code",
   "execution_count": 13,
   "metadata": {},
   "outputs": [],
   "source": [
    "num1,num2,num3,_ = 100,200,300,40"
   ]
  },
  {
   "cell_type": "code",
   "execution_count": null,
   "metadata": {},
   "outputs": [],
   "source": [
    "nu1,nu2,nu3, = 100,200,300"
   ]
  },
  {
   "cell_type": "code",
   "execution_count": 14,
   "metadata": {},
   "outputs": [
    {
     "name": "stdout",
     "output_type": "stream",
     "text": [
      "The variable name number is 100\n"
     ]
    }
   ],
   "source": [
    "print('The variable name number is', number)"
   ]
  },
  {
   "cell_type": "code",
   "execution_count": 15,
   "metadata": {},
   "outputs": [
    {
     "name": "stdout",
     "output_type": "stream",
     "text": [
      "The addition of number 1 & 2 is 3000\n"
     ]
    }
   ],
   "source": [
    "number2 = 1000\n",
    "number3= 2000\n",
    "\n",
    "number3 = number2 + number3\n",
    "\n",
    "print(\"The addition of number 1 & 2 is\", number3)"
   ]
  },
  {
   "cell_type": "code",
   "execution_count": 16,
   "metadata": {},
   "outputs": [
    {
     "name": "stdout",
     "output_type": "stream",
     "text": [
      "The Substaction of number 1 & 2 is -1000\n"
     ]
    }
   ],
   "source": [
    "number2 = 1000\n",
    "number3= 2000\n",
    "\n",
    "number3 = number2 - number3\n",
    "\n",
    "print(\"The Substaction of number 1 & 2 is\", number3)"
   ]
  },
  {
   "cell_type": "code",
   "execution_count": 18,
   "metadata": {},
   "outputs": [
    {
     "name": "stdout",
     "output_type": "stream",
     "text": [
      "The Multiplication of number 1 & 2 is 2000000\n"
     ]
    }
   ],
   "source": [
    "number2 = 1000\n",
    "number3= 2000\n",
    "\n",
    "number3 = number2 * number3\n",
    "\n",
    "print(\"The Multiplication of number 1 & 2 is\", number3)"
   ]
  },
  {
   "cell_type": "code",
   "execution_count": 19,
   "metadata": {},
   "outputs": [
    {
     "name": "stdout",
     "output_type": "stream",
     "text": [
      "The Division of number 1 & 2 is 2.0\n"
     ]
    }
   ],
   "source": [
    "number2 = 1000\n",
    "number3= 2000\n",
    "\n",
    "number3 = number3 / number2\n",
    "\n",
    "print(\"The Division of number 1 & 2 is\", number3)"
   ]
  },
  {
   "cell_type": "code",
   "execution_count": 20,
   "metadata": {},
   "outputs": [
    {
     "name": "stdout",
     "output_type": "stream",
     "text": [
      "The Division of number 1 & 2 is 2\n"
     ]
    }
   ],
   "source": [
    "#Floor division\n",
    "\n",
    "number2 = 1000\n",
    "number3= 2000\n",
    "\n",
    "number3 = number3 // number2\n",
    "\n",
    "print(\"The Division of number 1 & 2 is\", number3)\n"
   ]
  },
  {
   "cell_type": "code",
   "execution_count": 24,
   "metadata": {},
   "outputs": [
    {
     "name": "stdout",
     "output_type": "stream",
     "text": [
      "Addition of num and num1 1234123412341234123412341234123412341234123412341234123412341234123412341234123412341234123412341234123412341234123412341234123412341234123412341234123412341234123412341234123412341234123412341234123412341234123412341234123412341234123412341234123412341234123412341234123412341234123412341234123412341234123412341234123412341234123412341234123412341234123412341234123412341234123412341234123412341234\n"
     ]
    }
   ],
   "source": [
    "n1 = 100\n",
    "n2 = '1234'\n",
    "\n",
    "print(\"Addition of num and num1\", (n1 * n2))"
   ]
  }
 ],
 "metadata": {
  "kernelspec": {
   "display_name": "Python 3",
   "language": "python",
   "name": "python3"
  },
  "language_info": {
   "codemirror_mode": {
    "name": "ipython",
    "version": 3
   },
   "file_extension": ".py",
   "mimetype": "text/x-python",
   "name": "python",
   "nbconvert_exporter": "python",
   "pygments_lexer": "ipython3",
   "version": "3.12.7"
  }
 },
 "nbformat": 4,
 "nbformat_minor": 2
}
